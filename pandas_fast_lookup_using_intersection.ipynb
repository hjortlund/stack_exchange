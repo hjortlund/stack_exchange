{
 "cells": [
  {
   "cell_type": "code",
   "execution_count": 44,
   "metadata": {},
   "outputs": [],
   "source": [
    "import pandas as pd\n",
    "from time import time\n",
    "import numpy as np"
   ]
  },
  {
   "cell_type": "code",
   "execution_count": 50,
   "metadata": {},
   "outputs": [
    {
     "name": "stdout",
     "output_type": "stream",
     "text": [
      "The full DataFrame:\n",
      "             product_id\n",
      "property_id            \n",
      "1                  3588\n",
      "2                  3588\n",
      "5                  3588\n",
      "1                  3589\n",
      "3                  3589\n",
      "5                  3589\n",
      "1                  3590\n",
      "2                  3590\n",
      "5                  3590\n",
      "Overlapping product_id's\n",
      "0    3588\n",
      "1    3590\n",
      "dtype: int64\n",
      "0.9374420642852783\n"
     ]
    }
   ],
   "source": [
    "df = pd.DataFrame({'product_id': [3588, 3588, 3588, 3589, 3589, 3589, 3590, 3590,3590], \n",
    "                   'property_id': [1, 2, 5, 1, 3, 5, 1, 2, 5]})\n",
    "\n",
    "df = df.set_index(['property_id'])\n",
    "print(\"The full DataFrame:\")\n",
    "print(df)\n",
    "\n",
    "start = time()\n",
    "\n",
    "for i in range(1000):\n",
    "    s1 = df.loc[(1), 'product_id']\n",
    "    s2 = df.loc[(2), 'product_id']\n",
    "\n",
    "    s_done = pd.Series(list(set(s1).intersection(set(s2))))\n",
    "\n",
    "print(\"Overlapping product_id's\")\n",
    "print(s_done)\n",
    "\n",
    "print(time()-start)"
   ]
  },
  {
   "cell_type": "code",
   "execution_count": null,
   "metadata": {},
   "outputs": [],
   "source": [
    "\n"
   ]
  }
 ],
 "metadata": {
  "kernelspec": {
   "display_name": "Python 3",
   "language": "python",
   "name": "python3"
  },
  "language_info": {
   "codemirror_mode": {
    "name": "ipython",
    "version": 3
   },
   "file_extension": ".py",
   "mimetype": "text/x-python",
   "name": "python",
   "nbconvert_exporter": "python",
   "pygments_lexer": "ipython3",
   "version": "3.6.4"
  }
 },
 "nbformat": 4,
 "nbformat_minor": 2
}
