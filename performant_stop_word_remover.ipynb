{
 "cells": [
  {
   "cell_type": "code",
   "execution_count": 1,
   "metadata": {},
   "outputs": [],
   "source": [
    "import pandas as pd\n",
    "from time import time\n",
    "\n",
    "from nltk import word_tokenize, pos_tag\n",
    "from nltk.corpus import stopwords\n",
    "\n",
    "# Using a set (instead of a list) is super fast, and the perfect choise since the 'set' is not changing during run-time.\n",
    "stop_words = set(stopwords.words(\"english\"))\n",
    "\n",
    "# The input is a Pandas Series, can't change that!\n",
    "df = pd.Series([[\"comic of book\", \"horror of movie\"], [\"dark\", \"dark french\"]])"
   ]
  },
  {
   "cell_type": "code",
   "execution_count": 4,
   "metadata": {},
   "outputs": [
    {
     "name": "stdout",
     "output_type": "stream",
     "text": [
      "0.017357349395751953\n",
      "0    [comic book, horror movie]\n",
      "1           [dark, dark french]\n",
      "dtype: object\n"
     ]
    }
   ],
   "source": [
    "# The goal is to remove any stop words like: of, and, is, as fast as possible.\n",
    "\n",
    "start = time()\n",
    "\n",
    "for i in range(1000):\n",
    "    temp_list = list()\n",
    "\n",
    "    for serie in df:\n",
    "        elements = list()\n",
    "        for element in serie:\n",
    "            for word in element.split():\n",
    "                if word in stop_words:\n",
    "                    element = element.replace(f' {word} ', ' ')\n",
    "\n",
    "            elements.append(element)\n",
    "\n",
    "        temp_list.append(elements)\n",
    "\n",
    "print(time() - start)\n",
    "\n",
    "# Once all the sub-lists has been cleaned, we convert back to the Pandas world.\n",
    "df = pd.Series(temp_list)\n",
    "\n",
    "print(df)"
   ]
  },
  {
   "cell_type": "code",
   "execution_count": null,
   "metadata": {},
   "outputs": [],
   "source": []
  }
 ],
 "metadata": {
  "kernelspec": {
   "display_name": "Python 3",
   "language": "python",
   "name": "python3"
  },
  "language_info": {
   "codemirror_mode": {
    "name": "ipython",
    "version": 3
   },
   "file_extension": ".py",
   "mimetype": "text/x-python",
   "name": "python",
   "nbconvert_exporter": "python",
   "pygments_lexer": "ipython3",
   "version": "3.6.4"
  }
 },
 "nbformat": 4,
 "nbformat_minor": 2
}
